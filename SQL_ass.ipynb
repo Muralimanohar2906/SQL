{
 "cells": [
  {
   "cell_type": "markdown",
   "id": "990c9369",
   "metadata": {},
   "source": [
    "1 Write a Python program to connect to MySQL and print the list of all available databases."
   ]
  },
  {
   "cell_type": "code",
   "execution_count": 10,
   "id": "aadc997b",
   "metadata": {},
   "outputs": [],
   "source": [
    "import mysql.connector"
   ]
  },
  {
   "cell_type": "code",
   "execution_count": 11,
   "id": "cf518a2f",
   "metadata": {},
   "outputs": [
    {
     "name": "stdout",
     "output_type": "stream",
     "text": [
      "<mysql.connector.connection_cext.CMySQLConnection object at 0x0000025E08EC6850>\n"
     ]
    }
   ],
   "source": [
    "mydb = mysql.connector.connect(\n",
    "  host=\"localhost\",\n",
    "  user=\"root\",\n",
    "  password=\"Murali@29\",\n",
    ")\n",
    "\n",
    "print(mydb)"
   ]
  },
  {
   "cell_type": "code",
   "execution_count": 12,
   "id": "0b110cb8",
   "metadata": {},
   "outputs": [],
   "source": [
    "cursor = mydb.cursor()"
   ]
  },
  {
   "cell_type": "code",
   "execution_count": 13,
   "id": "ab7641a9",
   "metadata": {},
   "outputs": [],
   "source": [
    "cursor.execute(\"DROP DATABASE school_db\")\n",
    "\n",
    "cursor.execute(\"CREATE DATABASE school_db\")\n",
    "cursor.execute(\"USE school_db\")"
   ]
  },
  {
   "cell_type": "markdown",
   "id": "4d527cd2",
   "metadata": {},
   "source": [
    "2. Create a function in Python to create the tables (students, courses, enrollments) in school_db."
   ]
  },
  {
   "cell_type": "code",
   "execution_count": null,
   "id": "37382eb5",
   "metadata": {},
   "outputs": [],
   "source": []
  },
  {
   "cell_type": "code",
   "execution_count": 14,
   "id": "914b45b2",
   "metadata": {},
   "outputs": [],
   "source": [
    "# Drop tables if they exist\n",
    "cursor.execute(\"DROP TABLE IF EXISTS ENROLLMENTS\")\n",
    "cursor.execute(\"DROP TABLE IF EXISTS COURSES\")\n",
    "cursor.execute(\"DROP TABLE IF EXISTS STUDENTS\")\n",
    "\n",
    "# Students table\n",
    "cursor.execute(\"\"\"\n",
    "CREATE TABLE STUDENTS (\n",
    "    student_id INT AUTO_INCREMENT PRIMARY KEY,\n",
    "    name VARCHAR(255),\n",
    "    age INT,\n",
    "    grade VARCHAR(10),\n",
    "    email VARCHAR(50)\n",
    ")\n",
    "\"\"\")\n",
    "\n",
    "# Courses table\n",
    "cursor.execute(\"\"\"\n",
    "CREATE TABLE COURSES (\n",
    "    course_id INT AUTO_INCREMENT PRIMARY KEY,\n",
    "    course_name VARCHAR(255),\n",
    "    instructor VARCHAR(50)\n",
    ")\n",
    "\"\"\")\n",
    "\n"
   ]
  },
  {
   "cell_type": "code",
   "execution_count": 15,
   "id": "887c587c",
   "metadata": {},
   "outputs": [],
   "source": [
    "# Enrollments table\n",
    "cursor.execute(\"\"\"\n",
    "CREATE TABLE ENROLLMENTS (\n",
    "    enroll_id INT AUTO_INCREMENT PRIMARY KEY,\n",
    "    student_id INT,\n",
    "    course_id INT,\n",
    "    FOREIGN KEY(student_id) REFERENCES STUDENTS(student_id),\n",
    "    FOREIGN KEY(course_id) REFERENCES COURSES(course_id)\n",
    ") \n",
    "\"\"\")\n"
   ]
  },
  {
   "cell_type": "code",
   "execution_count": 16,
   "id": "3a6858b5",
   "metadata": {},
   "outputs": [
    {
     "name": "stdout",
     "output_type": "stream",
     "text": [
      "('games_db',)\n",
      "('information_schema',)\n",
      "('mysql',)\n",
      "('performance_schema',)\n",
      "('sakila',)\n",
      "('school_db',)\n",
      "('schools_db',)\n",
      "('sys',)\n",
      "('world',)\n"
     ]
    }
   ],
   "source": [
    "cursor.execute(\"SHOW DATABASES\")\n",
    "for x in cursor:\n",
    "    print(x)"
   ]
  },
  {
   "cell_type": "markdown",
   "id": "47a7fa95",
   "metadata": {},
   "source": [
    "3. Write a Python program to insert multiple students and courses into the respective tables using executemany()."
   ]
  },
  {
   "cell_type": "code",
   "execution_count": 17,
   "id": "bd11bf79",
   "metadata": {},
   "outputs": [
    {
     "name": "stdout",
     "output_type": "stream",
     "text": [
      "    student_id     name  age grade                email\n",
      "0            1    Zane1   18     C     zane1@school.edu\n",
      "1            2     Uma2   23     A     uma2@outlook.com\n",
      "2            3   Wendy3   22     B     wendy3@yahoo.com\n",
      "3            4  Xander4   22     A  xander4@outlook.com\n",
      "4            5  Victor5   19     A    victor5@gmail.com\n",
      "..         ...      ...  ...   ...                  ...\n",
      "95          96    Ian96   25     C     ian96@school.edu\n",
      "96          97   Mona97   22     C     mona97@gmail.com\n",
      "97          98    Leo98   25     A     leo98@school.edu\n",
      "98          99    Bob99   23     C    bob99@outlook.com\n",
      "99         100  Paul100   19     B  paul100@outlook.com\n",
      "\n",
      "[100 rows x 5 columns]\n",
      "   course_id         course_name    instructor\n",
      "0          1         Mathematics     Dr. Smith\n",
      "1          2             Physics   Dr. Johnson\n",
      "2          3           Chemistry     Dr. Brown\n",
      "3          4             Biology     Prof. Lee\n",
      "4          5             History  Prof. Wilson\n",
      "5          6           Economics    Dr. Taylor\n",
      "6          7    Computer Science   Prof. White\n",
      "7          8  English Literature    Dr. Harris\n",
      "8          9          Philosophy    Dr. Martin\n",
      "9         10          Statistics   Prof. Clark\n",
      "     enroll_id  student_id  course_id\n",
      "0            1           1         10\n",
      "1            2           2          6\n",
      "2            3           3          8\n",
      "3            4           4         10\n",
      "4            5           5         10\n",
      "..         ...         ...        ...\n",
      "194        195          98          9\n",
      "195        196          98          3\n",
      "196        197          99          7\n",
      "197        198          99          2\n",
      "198        199         100          9\n",
      "\n",
      "[199 rows x 3 columns]\n"
     ]
    }
   ],
   "source": [
    "import pandas as pd\n",
    "students=pd.read_csv(\"./students.csv\")\n",
    "courses=pd.read_csv(\"./courses.csv\")\n",
    "enrollments=pd.read_csv(\"./enrollments.csv\")\n",
    "print(students)\n",
    "print(courses)\n",
    "print(enrollments)\n"
   ]
  },
  {
   "cell_type": "code",
   "execution_count": 18,
   "id": "568c6f9a",
   "metadata": {},
   "outputs": [],
   "source": [
    "# Courses  table\n",
    "courses_sql = \"INSERT INTO COURSES (course_name, instructor) VALUES (%s, %s)\"\n",
    "courses=list(courses[[\"course_name\",\"instructor\"]].itertuples(index=False,name=None))\n",
    "cursor.executemany(courses_sql, courses)\n",
    "mydb.commit()"
   ]
  },
  {
   "cell_type": "code",
   "execution_count": 19,
   "id": "5dd39db3",
   "metadata": {},
   "outputs": [
    {
     "name": "stdout",
     "output_type": "stream",
     "text": [
      "(1, 'Mathematics', 'Dr. Smith')\n",
      "(2, 'Physics', 'Dr. Johnson')\n",
      "(3, 'Chemistry', 'Dr. Brown')\n",
      "(4, 'Biology', 'Prof. Lee')\n",
      "(5, 'History', 'Prof. Wilson')\n",
      "(6, 'Economics', 'Dr. Taylor')\n",
      "(7, 'Computer Science', 'Prof. White')\n",
      "(8, 'English Literature', 'Dr. Harris')\n",
      "(9, 'Philosophy', 'Dr. Martin')\n",
      "(10, 'Statistics', 'Prof. Clark')\n"
     ]
    }
   ],
   "source": [
    "cursor.execute(\"SELECT * FROM COURSES\")\n",
    "for crow in cursor.fetchall():\n",
    "    print(crow)"
   ]
  },
  {
   "cell_type": "code",
   "execution_count": 20,
   "id": "a9d9a6b6",
   "metadata": {},
   "outputs": [],
   "source": [
    "# Students  table\n",
    "students_sql = \"INSERT INTO STUDENTS (name,age,grade,email) VALUES (%s, %s,%s,%s)\"\n",
    "students_re=list(students[[\"name\",\"age\",\"grade\",\"email\"]].itertuples(index=False,name=None))\n",
    "cursor.executemany(students_sql, students_re)\n",
    "mydb.commit()"
   ]
  },
  {
   "cell_type": "markdown",
   "id": "314cd22f",
   "metadata": {},
   "source": [
    "4. Fetch and print all rows from the students table in a tabular format"
   ]
  },
  {
   "cell_type": "code",
   "execution_count": 21,
   "id": "fc592d6f",
   "metadata": {},
   "outputs": [
    {
     "name": "stdout",
     "output_type": "stream",
     "text": [
      "(1, 'Zane1', 18, 'C', 'zane1@school.edu')\n",
      "(2, 'Uma2', 23, 'A', 'uma2@outlook.com')\n",
      "(3, 'Wendy3', 22, 'B', 'wendy3@yahoo.com')\n",
      "(4, 'Xander4', 22, 'A', 'xander4@outlook.com')\n",
      "(5, 'Victor5', 19, 'A', 'victor5@gmail.com')\n",
      "(6, 'Ian6', 19, 'D', 'ian6@outlook.com')\n",
      "(7, 'Leo7', 22, 'A', 'leo7@gmail.com')\n",
      "(8, 'Paul8', 24, 'B', 'paul8@outlook.com')\n",
      "(9, 'Wendy9', 23, 'B', 'wendy9@school.edu')\n",
      "(10, 'Leo10', 23, 'A', 'leo10@yahoo.com')\n",
      "(11, 'Uma11', 18, 'C', 'uma11@school.edu')\n",
      "(12, 'Rita12', 18, 'B', 'rita12@outlook.com')\n",
      "(13, 'Yara13', 22, 'B', 'yara13@yahoo.com')\n",
      "(14, 'Bob14', 19, 'C', 'bob14@outlook.com')\n",
      "(15, 'Quincy15', 24, 'A', 'quincy15@school.edu')\n",
      "(16, 'Tina16', 19, 'A', 'tina16@yahoo.com')\n",
      "(17, 'Alice17', 25, 'B', 'alice17@outlook.com')\n",
      "(18, 'Sam18', 20, 'B', 'sam18@gmail.com')\n",
      "(19, 'Paul19', 23, 'A', 'paul19@school.edu')\n",
      "(20, 'Victor20', 19, 'D', 'victor20@gmail.com')\n",
      "(21, 'Frank21', 23, 'A', 'frank21@school.edu')\n",
      "(22, 'Victor22', 18, 'A', 'victor22@yahoo.com')\n",
      "(23, 'Karen23', 25, 'A', 'karen23@yahoo.com')\n",
      "(24, 'Grace24', 24, 'D', 'grace24@gmail.com')\n",
      "(25, 'Quincy25', 25, 'A', 'quincy25@school.edu')\n",
      "(26, 'Mona26', 20, 'D', 'mona26@gmail.com')\n",
      "(27, 'Uma27', 22, 'B', 'uma27@school.edu')\n",
      "(28, 'Nina28', 23, 'B', 'nina28@yahoo.com')\n",
      "(29, 'Ian29', 23, 'B', 'ian29@school.edu')\n",
      "(30, 'Tina30', 23, 'A', 'tina30@outlook.com')\n",
      "(31, 'Nina31', 22, 'B', 'nina31@school.edu')\n",
      "(32, 'Hannah32', 21, 'A', 'hannah32@school.edu')\n",
      "(33, 'David33', 25, 'D', 'david33@school.edu')\n",
      "(34, 'Wendy34', 22, 'B', 'wendy34@yahoo.com')\n",
      "(35, 'Frank35', 25, 'C', 'frank35@yahoo.com')\n",
      "(36, 'Paul36', 22, 'D', 'paul36@outlook.com')\n",
      "(37, 'Ian37', 21, 'D', 'ian37@school.edu')\n",
      "(38, 'Paul38', 20, 'C', 'paul38@outlook.com')\n",
      "(39, 'Hannah39', 18, 'A', 'hannah39@outlook.com')\n",
      "(40, 'Zane40', 21, 'A', 'zane40@yahoo.com')\n",
      "(41, 'Ian41', 24, 'D', 'ian41@outlook.com')\n",
      "(42, 'Quincy42', 24, 'C', 'quincy42@gmail.com')\n",
      "(43, 'Quincy43', 25, 'D', 'quincy43@gmail.com')\n",
      "(44, 'Tina44', 19, 'C', 'tina44@outlook.com')\n",
      "(45, 'Xander45', 23, 'C', 'xander45@yahoo.com')\n",
      "(46, 'Zane46', 25, 'C', 'zane46@gmail.com')\n",
      "(47, 'Eva47', 19, 'D', 'eva47@yahoo.com')\n",
      "(48, 'Leo48', 22, 'B', 'leo48@outlook.com')\n",
      "(49, 'Uma49', 25, 'A', 'uma49@school.edu')\n",
      "(50, 'Bob50', 22, 'D', 'bob50@gmail.com')\n",
      "(51, 'Karen51', 18, 'A', 'karen51@outlook.com')\n",
      "(52, 'Hannah52', 23, 'A', 'hannah52@yahoo.com')\n",
      "(53, 'Bob53', 21, 'C', 'bob53@outlook.com')\n",
      "(54, 'Leo54', 18, 'C', 'leo54@yahoo.com')\n",
      "(55, 'Yara55', 22, 'A', 'yara55@yahoo.com')\n",
      "(56, 'Eva56', 19, 'C', 'eva56@school.edu')\n",
      "(57, 'Nina57', 21, 'B', 'nina57@school.edu')\n",
      "(58, 'Eva58', 20, 'A', 'eva58@yahoo.com')\n",
      "(59, 'Oscar59', 21, 'B', 'oscar59@yahoo.com')\n",
      "(60, 'Yara60', 18, 'B', 'yara60@gmail.com')\n",
      "(61, 'Oscar61', 23, 'D', 'oscar61@gmail.com')\n",
      "(62, 'Rita62', 23, 'C', 'rita62@gmail.com')\n",
      "(63, 'Victor63', 20, 'D', 'victor63@yahoo.com')\n",
      "(64, 'Xander64', 19, 'D', 'xander64@yahoo.com')\n",
      "(65, 'Hannah65', 22, 'D', 'hannah65@school.edu')\n",
      "(66, 'Nina66', 25, 'D', 'nina66@school.edu')\n",
      "(67, 'Victor67', 18, 'A', 'victor67@outlook.com')\n",
      "(68, 'Karen68', 18, 'A', 'karen68@school.edu')\n",
      "(69, 'Grace69', 18, 'D', 'grace69@gmail.com')\n",
      "(70, 'Jack70', 24, 'A', 'jack70@school.edu')\n",
      "(71, 'Nina71', 23, 'B', 'nina71@outlook.com')\n",
      "(72, 'Ian72', 22, 'D', 'ian72@gmail.com')\n",
      "(73, 'Grace73', 19, 'A', 'grace73@yahoo.com')\n",
      "(74, 'Grace74', 24, 'C', 'grace74@gmail.com')\n",
      "(75, 'Quincy75', 23, 'D', 'quincy75@school.edu')\n",
      "(76, 'Oscar76', 19, 'D', 'oscar76@school.edu')\n",
      "(77, 'Grace77', 22, 'D', 'grace77@outlook.com')\n",
      "(78, 'Ian78', 22, 'D', 'ian78@outlook.com')\n",
      "(79, 'Xander79', 24, 'C', 'xander79@outlook.com')\n",
      "(80, 'Tina80', 22, 'D', 'tina80@gmail.com')\n",
      "(81, 'Wendy81', 20, 'A', 'wendy81@school.edu')\n",
      "(82, 'Karen82', 23, 'B', 'karen82@outlook.com')\n",
      "(83, 'Leo83', 18, 'C', 'leo83@outlook.com')\n",
      "(84, 'Bob84', 18, 'A', 'bob84@school.edu')\n",
      "(85, 'Rita85', 18, 'A', 'rita85@outlook.com')\n",
      "(86, 'Alice86', 21, 'B', 'alice86@outlook.com')\n",
      "(87, 'Sam87', 19, 'C', 'sam87@yahoo.com')\n",
      "(88, 'Wendy88', 23, 'A', 'wendy88@yahoo.com')\n",
      "(89, 'Tina89', 21, 'C', 'tina89@outlook.com')\n",
      "(90, 'Zane90', 25, 'D', 'zane90@gmail.com')\n",
      "(91, 'Tina91', 21, 'D', 'tina91@yahoo.com')\n",
      "(92, 'Wendy92', 19, 'C', 'wendy92@gmail.com')\n",
      "(93, 'Quincy93', 19, 'A', 'quincy93@gmail.com')\n",
      "(94, 'Eva94', 24, 'C', 'eva94@school.edu')\n",
      "(95, 'Tina95', 25, 'D', 'tina95@outlook.com')\n",
      "(96, 'Ian96', 25, 'C', 'ian96@school.edu')\n",
      "(97, 'Mona97', 22, 'C', 'mona97@gmail.com')\n",
      "(98, 'Leo98', 25, 'A', 'leo98@school.edu')\n",
      "(99, 'Bob99', 23, 'C', 'bob99@outlook.com')\n",
      "(100, 'Paul100', 19, 'B', 'paul100@outlook.com')\n"
     ]
    }
   ],
   "source": [
    "cursor.execute(\"SELECT * FROM STUDENTS\")\n",
    "for srow in cursor.fetchall():\n",
    "    print(srow)"
   ]
  },
  {
   "cell_type": "markdown",
   "id": "6d2b98b8",
   "metadata": {},
   "source": [
    "5. Write a program to update the grade of a student (given student_id) via a Python input prompt."
   ]
  },
  {
   "cell_type": "code",
   "execution_count": 22,
   "id": "52494a44",
   "metadata": {},
   "outputs": [],
   "source": [
    "sql = \"UPDATE STUDENTS SET grade = %s WHERE student_id = %s\"\n",
    "student_id = int(input(\"Enter Student Id:\"))\n",
    "grade=input(\"Enter N(ew Grade:\")\n",
    "cursor.execute(sql,(grade,student_id))\n",
    "mydb.commit()"
   ]
  },
  {
   "cell_type": "markdown",
   "id": "e957d877",
   "metadata": {},
   "source": [
    "6. Delete a student from the students table using Python input for student_id."
   ]
  },
  {
   "cell_type": "code",
   "execution_count": 23,
   "id": "f140fea2",
   "metadata": {},
   "outputs": [],
   "source": [
    "sql = \"DELETE FROM STUDENTS WHERE name = %s\"\n",
    "val = (\"Victor5\",)\n",
    "cursor.execute(sql, val)\n",
    "mydb.commit()"
   ]
  },
  {
   "cell_type": "markdown",
   "id": "d7785abe",
   "metadata": {},
   "source": [
    "7. Write a Python script to insert enrollment records linking students with their courses, ensuring foreign key integrity."
   ]
  },
  {
   "cell_type": "code",
   "execution_count": 24,
   "id": "e3d61dde",
   "metadata": {},
   "outputs": [
    {
     "name": "stdout",
     "output_type": "stream",
     "text": [
      "196 valid enrollments to insert.\n",
      "3 invalid enrollments skipped: [(5, 10), (5, 3), (5, 6)]\n",
      "Inserted successfully.\n"
     ]
    }
   ],
   "source": [
    "enrollments['student_id'] = enrollments['student_id'].astype(int)\n",
    "enrollments['course_id'] = enrollments['course_id'].astype(int)\n",
    "\n",
    "# fetch valid student_ids and course_ids\n",
    "cursor.execute(\"SELECT student_id FROM students\")\n",
    "valid_students = {row[0] for row in cursor.fetchall()}\n",
    "\n",
    "cursor.execute(\"SELECT course_id FROM courses\")\n",
    "valid_courses = {row[0] for row in cursor.fetchall()}\n",
    "\n",
    "# filter only valid enrollments\n",
    "valid_enrollments = [\n",
    "    (row.student_id, row.course_id)\n",
    "    for row in enrollments.itertuples(index=False)\n",
    "    if row.student_id in valid_students and row.course_id in valid_courses\n",
    "]\n",
    "\n",
    "invalid_enrollments = [\n",
    "    (row.student_id, row.course_id)\n",
    "    for row in enrollments.itertuples(index=False)\n",
    "    if row.student_id not in valid_students or row.course_id not in valid_courses\n",
    "]\n",
    "\n",
    "print(f\"{len(valid_enrollments)} valid enrollments to insert.\")\n",
    "print(f\"{len(invalid_enrollments)} invalid enrollments skipped:\", invalid_enrollments[:10])\n",
    "\n",
    "# insert valid enrollments\n",
    "if valid_enrollments:\n",
    "    sql = \"INSERT INTO enrollments (student_id, course_id) VALUES (%s, %s)\"\n",
    "    cursor.executemany(sql, valid_enrollments)\n",
    "    print(\"Inserted successfully.\")\n",
    "    mydb.commit()"
   ]
  },
  {
   "cell_type": "markdown",
   "id": "5ee2b5be",
   "metadata": {},
   "source": [
    "8. Fetch all students enrolled in a particular course (given course_id as input)."
   ]
  },
  {
   "cell_type": "code",
   "execution_count": 25,
   "id": "4f6d05d4",
   "metadata": {},
   "outputs": [
    {
     "name": "stdout",
     "output_type": "stream",
     "text": [
      "Students enrolled:\n",
      "(7, 'Leo7', 22, 'A', 'leo7@gmail.com')\n",
      "(10, 'Leo10', 23, 'A', 'leo10@yahoo.com')\n",
      "(14, 'Bob14', 19, 'C', 'bob14@outlook.com')\n",
      "(16, 'Tina16', 19, 'A', 'tina16@yahoo.com')\n",
      "(17, 'Alice17', 25, 'B', 'alice17@outlook.com')\n",
      "(19, 'Paul19', 23, 'A', 'paul19@school.edu')\n",
      "(26, 'Mona26', 20, 'D', 'mona26@gmail.com')\n",
      "(28, 'Nina28', 23, 'B', 'nina28@yahoo.com')\n",
      "(30, 'Tina30', 23, 'A', 'tina30@outlook.com')\n",
      "(46, 'Zane46', 25, 'C', 'zane46@gmail.com')\n",
      "(48, 'Leo48', 22, 'B', 'leo48@outlook.com')\n",
      "(58, 'Eva58', 20, 'A', 'eva58@yahoo.com')\n",
      "(61, 'Oscar61', 23, 'D', 'oscar61@gmail.com')\n",
      "(62, 'Rita62', 23, 'C', 'rita62@gmail.com')\n",
      "(71, 'Nina71', 23, 'B', 'nina71@outlook.com')\n",
      "(74, 'Grace74', 24, 'C', 'grace74@gmail.com')\n",
      "(77, 'Grace77', 22, 'D', 'grace77@outlook.com')\n",
      "(81, 'Wendy81', 20, 'A', 'wendy81@school.edu')\n",
      "(89, 'Tina89', 21, 'C', 'tina89@outlook.com')\n",
      "(91, 'Tina91', 21, 'D', 'tina91@yahoo.com')\n",
      "(92, 'Wendy92', 19, 'C', 'wendy92@gmail.com')\n"
     ]
    }
   ],
   "source": [
    "course_id = int(input(\"Enter Course ID: \"))\n",
    "\n",
    "cursor.execute(\"\"\"\n",
    "SELECT s.student_id, s.name, s.age, s.grade, s.email\n",
    "FROM enrollments e\n",
    "JOIN students s ON e.student_id = s.student_id\n",
    "WHERE e.course_id = %s\n",
    "\"\"\", (course_id,))\n",
    "\n",
    "rows = cursor.fetchall()\n",
    "\n",
    "if rows:\n",
    "    print(\"Students enrolled:\")\n",
    "    for row in rows:\n",
    "        print(row)\n",
    "else:\n",
    "    print(\"No students found for this course.\")\n"
   ]
  },
  {
   "cell_type": "markdown",
   "id": "61c3ed8f",
   "metadata": {},
   "source": [
    "9. Write a program to display students who are not enrolled in any course."
   ]
  },
  {
   "cell_type": "code",
   "execution_count": 26,
   "id": "2036e5f3",
   "metadata": {},
   "outputs": [
    {
     "name": "stdout",
     "output_type": "stream",
     "text": [
      "✅ All students are enrolled in at least one course.\n"
     ]
    }
   ],
   "source": [
    "cursor.execute(\"\"\"\n",
    "SELECT s.student_id, s.name, s.age, s.grade, s.email\n",
    "FROM students s\n",
    "LEFT JOIN enrollments e ON s.student_id = e.student_id\n",
    "WHERE e.student_id IS NULL\n",
    "\"\"\")\n",
    "\n",
    "rows = cursor.fetchall()\n",
    "\n",
    "if rows:\n",
    "    print(\"Students not enrolled in any course:\")\n",
    "    for row in rows:\n",
    "        print(row)\n",
    "else:\n",
    "    print(\"✅ All students are enrolled in at least one course.\")\n"
   ]
  },
  {
   "cell_type": "markdown",
   "id": "7ba6aca9",
   "metadata": {},
   "source": [
    "10. Perform an INNER JOIN between students and courses using Python to show student names along with the courses they are enrolled in."
   ]
  },
  {
   "cell_type": "code",
   "execution_count": 27,
   "id": "b1bf169c",
   "metadata": {},
   "outputs": [],
   "source": [
    "# The SQL query for the INNER JOIN\n",
    "sql_join = \"\"\"\n",
    "SELECT\n",
    "    s.name AS student_name,\n",
    "    c.course_name\n",
    "FROM\n",
    "    students AS s\n",
    "INNER JOIN\n",
    "    enrollments AS e ON s.student_id = e.student_id\n",
    "INNER JOIN\n",
    "    courses AS c ON e.course_id = c.course_id;\n",
    "\"\"\"\n",
    "\n",
    "\n",
    "for row in cursor.fetchall():\n",
    "    print(row)"
   ]
  },
  {
   "cell_type": "markdown",
   "id": "dbd6b7ae",
   "metadata": {},
   "source": [
    "11. Write a Python function to search for a student by name (partial matches allowed using LIKE)."
   ]
  },
  {
   "cell_type": "code",
   "execution_count": 28,
   "id": "93477f77",
   "metadata": {},
   "outputs": [
    {
     "name": "stdout",
     "output_type": "stream",
     "text": [
      "[(2, 'Uma2', 23, 'A', 'uma2@outlook.com'), (4, 'Xander4', 22, 'A', 'xander4@outlook.com'), (7, 'Leo7', 22, 'A', 'leo7@gmail.com'), (10, 'Leo10', 23, 'A', 'leo10@yahoo.com'), (15, 'Quincy15', 24, 'A', 'quincy15@school.edu'), (16, 'Tina16', 19, 'A', 'tina16@yahoo.com'), (19, 'Paul19', 23, 'A', 'paul19@school.edu'), (21, 'Frank21', 23, 'A', 'frank21@school.edu'), (22, 'Victor22', 18, 'A', 'victor22@yahoo.com'), (23, 'Karen23', 25, 'A', 'karen23@yahoo.com'), (25, 'Quincy25', 25, 'A', 'quincy25@school.edu'), (30, 'Tina30', 23, 'A', 'tina30@outlook.com'), (32, 'Hannah32', 21, 'A', 'hannah32@school.edu'), (39, 'Hannah39', 18, 'A', 'hannah39@outlook.com'), (40, 'Zane40', 21, 'A', 'zane40@yahoo.com'), (49, 'Uma49', 25, 'A', 'uma49@school.edu'), (51, 'Karen51', 18, 'A', 'karen51@outlook.com'), (52, 'Hannah52', 23, 'A', 'hannah52@yahoo.com'), (55, 'Yara55', 22, 'A', 'yara55@yahoo.com'), (58, 'Eva58', 20, 'A', 'eva58@yahoo.com'), (67, 'Victor67', 18, 'A', 'victor67@outlook.com'), (68, 'Karen68', 18, 'A', 'karen68@school.edu'), (70, 'Jack70', 24, 'A', 'jack70@school.edu'), (73, 'Grace73', 19, 'A', 'grace73@yahoo.com'), (81, 'Wendy81', 20, 'A', 'wendy81@school.edu'), (84, 'Bob84', 18, 'A', 'bob84@school.edu'), (85, 'Rita85', 18, 'A', 'rita85@outlook.com'), (88, 'Wendy88', 23, 'A', 'wendy88@yahoo.com'), (93, 'Quincy93', 19, 'A', 'quincy93@gmail.com'), (98, 'Leo98', 25, 'A', 'leo98@school.edu')]\n"
     ]
    }
   ],
   "source": [
    "cursor.execute(\"SELECT * FROM STUDENTS WHERE grade LIKE 'A%'\")\n",
    "print(cursor.fetchall())"
   ]
  },
  {
   "cell_type": "markdown",
   "id": "6e0a7b66",
   "metadata": {},
   "source": [
    "12. Add a new column email to the students table using Python and update it with random values."
   ]
  },
  {
   "cell_type": "code",
   "execution_count": 29,
   "id": "449df909",
   "metadata": {},
   "outputs": [],
   "source": [
    "#cursor.execute(\"ALTER TABLE STUDENTS DROP COLUMN school_email\")\n",
    "cursor.execute(\"ALTER TABLE STUDENTS ADD COLUMN school_email VARCHAR(100)\")\n",
    "sql = \"UPDATE STUDENTS SET school_email = %s WHERE name = %s\"\n",
    "val = (\"art@artechsolution\", \"Uma2\")\n",
    "cursor.execute(sql, val)\n",
    "mydb.commit()"
   ]
  },
  {
   "cell_type": "markdown",
   "id": "2b1ea028",
   "metadata": {},
   "source": [
    "13. Create a program to count how many students are enrolled per course and display results in descending order."
   ]
  },
  {
   "cell_type": "code",
   "execution_count": 30,
   "id": "3a0b81d8",
   "metadata": {},
   "outputs": [
    {
     "name": "stdout",
     "output_type": "stream",
     "text": [
      "Students enrolled per course (descending):\n",
      "Chemistry → 27 students\n",
      "Philosophy → 22 students\n",
      "Mathematics → 21 students\n",
      "History → 21 students\n",
      "Computer Science → 21 students\n",
      "Economics → 19 students\n",
      "Biology → 18 students\n",
      "Statistics → 18 students\n",
      "Physics → 16 students\n",
      "English Literature → 13 students\n"
     ]
    }
   ],
   "source": [
    "cursor.execute(\"\"\"\n",
    "SELECT c.course_name, COUNT(e.student_id) AS total_students\n",
    "FROM courses c\n",
    "LEFT JOIN enrollments e ON c.course_id = e.course_id\n",
    "GROUP BY c.course_id, c.course_name\n",
    "ORDER BY total_students DESC\n",
    "\"\"\")\n",
    "\n",
    "rows = cursor.fetchall()\n",
    "\n",
    "print(\"Students enrolled per course (descending):\")\n",
    "for row in rows:\n",
    "    print(f\"{row[0]} → {row[1]} students\")\n",
    "mydb.commit()"
   ]
  },
  {
   "cell_type": "markdown",
   "id": "010928a8",
   "metadata": {},
   "source": [
    "14. Write a Python script that accepts a course name as input and returns all enrolled students with their grades."
   ]
  },
  {
   "cell_type": "code",
   "execution_count": 31,
   "id": "9f6e7888",
   "metadata": {},
   "outputs": [
    {
     "name": "stdout",
     "output_type": "stream",
     "text": [
      "No students found for course 10.\n"
     ]
    }
   ],
   "source": [
    "course_name = input(\"Enter course name: \")\n",
    "\n",
    "cursor.execute(\"\"\"\n",
    "SELECT s.student_id, s.name, s.grade\n",
    "FROM enrollments e\n",
    "JOIN students s ON e.student_id = s.student_id\n",
    "JOIN courses c ON e.course_id = c.course_id\n",
    "WHERE c.course_name = %s\n",
    "\"\"\", (course_name,))\n",
    "\n",
    "rows = cursor.fetchall()\n",
    "\n",
    "if rows:\n",
    "    print(f\"\\nStudents enrolled in {course_name}:\")\n",
    "    for row in rows:\n",
    "        print(f\"ID: {row[0]}, Name: {row[1]}, Grade: {row[2]}\")\n",
    "else:\n",
    "    print(f\"No students found for course {course_name}.\")\n",
    "mydb.commit()"
   ]
  },
  {
   "cell_type": "markdown",
   "id": "d48cf16b",
   "metadata": {},
   "source": [
    "15. Export the contents of the students table into a CSV file using Python."
   ]
  },
  {
   "cell_type": "code",
   "execution_count": 32,
   "id": "9671cb91",
   "metadata": {},
   "outputs": [
    {
     "name": "stdout",
     "output_type": "stream",
     "text": [
      "Students table exported to students_export.csv\n"
     ]
    }
   ],
   "source": [
    "import csv\n",
    "\n",
    "cursor.execute(\"SELECT * FROM students\")\n",
    "rows = cursor.fetchall()\n",
    "\n",
    "# Get column names\n",
    "columns = [desc[0] for desc in cursor.description]\n",
    "\n",
    "with open(\"students_export.csv\", \"w\", newline=\"\") as f:\n",
    "    writer = csv.writer(f)\n",
    "    writer.writerow(columns) \n",
    "    writer.writerows(rows)\n",
    "\n",
    "print(\"Students table exported to students_export.csv\")\n"
   ]
  },
  {
   "cell_type": "markdown",
   "id": "039dddcb",
   "metadata": {},
   "source": [
    "\n",
    "16. Write a Python program to import student data from a CSV file into the students table"
   ]
  },
  {
   "cell_type": "code",
   "execution_count": null,
   "id": "e9f227a9",
   "metadata": {},
   "outputs": [],
   "source": []
  },
  {
   "cell_type": "markdown",
   "id": "507a1278",
   "metadata": {},
   "source": [
    "17. Create a stored procedure in MySQL (e.g., GetStudentCourses(student_id)) and call it from Python"
   ]
  },
  {
   "cell_type": "code",
   "execution_count": 33,
   "id": "2df5de24",
   "metadata": {},
   "outputs": [
    {
     "ename": "ProgrammingError",
     "evalue": "1305 (42000): PROCEDURE school_db.GetStudentCourses does not exist",
     "output_type": "error",
     "traceback": [
      "\u001b[31m---------------------------------------------------------------------------\u001b[39m",
      "\u001b[31mMySQLInterfaceError\u001b[39m                       Traceback (most recent call last)",
      "\u001b[36mFile \u001b[39m\u001b[32mc:\\Users\\murali.g.ARTECHSOLUTION\\AppData\\Local\\Programs\\Python\\Python313\\Lib\\site-packages\\mysql\\connector\\connection_cext.py:772\u001b[39m, in \u001b[36mCMySQLConnection.cmd_query\u001b[39m\u001b[34m(self, query, raw, buffered, raw_as_string, **kwargs)\u001b[39m\n\u001b[32m    770\u001b[39m     \u001b[38;5;28mself\u001b[39m._local_infile_filenames = \u001b[38;5;28;01mNone\u001b[39;00m\n\u001b[32m--> \u001b[39m\u001b[32m772\u001b[39m     \u001b[38;5;28;43mself\u001b[39;49m\u001b[43m.\u001b[49m\u001b[43m_cmysql\u001b[49m\u001b[43m.\u001b[49m\u001b[43mquery\u001b[49m\u001b[43m(\u001b[49m\n\u001b[32m    773\u001b[39m \u001b[43m        \u001b[49m\u001b[43mquery\u001b[49m\u001b[43m,\u001b[49m\n\u001b[32m    774\u001b[39m \u001b[43m        \u001b[49m\u001b[43mraw\u001b[49m\u001b[43m=\u001b[49m\u001b[43mraw\u001b[49m\u001b[43m,\u001b[49m\n\u001b[32m    775\u001b[39m \u001b[43m        \u001b[49m\u001b[43mbuffered\u001b[49m\u001b[43m=\u001b[49m\u001b[43mbuffered\u001b[49m\u001b[43m,\u001b[49m\n\u001b[32m    776\u001b[39m \u001b[43m        \u001b[49m\u001b[43mraw_as_string\u001b[49m\u001b[43m=\u001b[49m\u001b[43mraw_as_string\u001b[49m\u001b[43m,\u001b[49m\n\u001b[32m    777\u001b[39m \u001b[43m        \u001b[49m\u001b[43mquery_attrs\u001b[49m\u001b[43m=\u001b[49m\u001b[38;5;28;43mself\u001b[39;49m\u001b[43m.\u001b[49m\u001b[43mquery_attrs\u001b[49m\u001b[43m,\u001b[49m\n\u001b[32m    778\u001b[39m \u001b[43m    \u001b[49m\u001b[43m)\u001b[49m\n\u001b[32m    779\u001b[39m \u001b[38;5;28;01mexcept\u001b[39;00m MySQLInterfaceError \u001b[38;5;28;01mas\u001b[39;00m err:\n",
      "\u001b[31mMySQLInterfaceError\u001b[39m: PROCEDURE school_db.GetStudentCourses does not exist",
      "\nThe above exception was the direct cause of the following exception:\n",
      "\u001b[31mProgrammingError\u001b[39m                          Traceback (most recent call last)",
      "\u001b[36mCell\u001b[39m\u001b[36m \u001b[39m\u001b[32mIn[33]\u001b[39m\u001b[32m, line 4\u001b[39m\n\u001b[32m      1\u001b[39m student_id = \u001b[38;5;28mint\u001b[39m(\u001b[38;5;28minput\u001b[39m(\u001b[33m\"\u001b[39m\u001b[33mEnter Student ID: \u001b[39m\u001b[33m\"\u001b[39m))\n\u001b[32m      3\u001b[39m \u001b[38;5;66;03m# call stored procedure\u001b[39;00m\n\u001b[32m----> \u001b[39m\u001b[32m4\u001b[39m \u001b[43mcursor\u001b[49m\u001b[43m.\u001b[49m\u001b[43mcallproc\u001b[49m\u001b[43m(\u001b[49m\u001b[33;43m\"\u001b[39;49m\u001b[33;43mGetStudentCourses\u001b[39;49m\u001b[33;43m\"\u001b[39;49m\u001b[43m,\u001b[49m\u001b[43m \u001b[49m\u001b[43m[\u001b[49m\u001b[43mstudent_id\u001b[49m\u001b[43m]\u001b[49m\u001b[43m)\u001b[49m\n\u001b[32m      6\u001b[39m \u001b[38;5;66;03m# fetch results\u001b[39;00m\n\u001b[32m      7\u001b[39m \u001b[38;5;28;01mfor\u001b[39;00m result \u001b[38;5;129;01min\u001b[39;00m cursor.stored_results():\n",
      "\u001b[36mFile \u001b[39m\u001b[32mc:\\Users\\murali.g.ARTECHSOLUTION\\AppData\\Local\\Programs\\Python\\Python313\\Lib\\site-packages\\mysql\\connector\\cursor_cext.py:558\u001b[39m, in \u001b[36mCMySQLCursor.callproc\u001b[39m\u001b[34m(self, procname, args)\u001b[39m\n\u001b[32m    554\u001b[39m     \u001b[38;5;28mself\u001b[39m.execute(\u001b[33mf\u001b[39m\u001b[33m\"\u001b[39m\u001b[33mSET \u001b[39m\u001b[38;5;132;01m{\u001b[39;00mplaceholders\u001b[38;5;132;01m}\u001b[39;00m\u001b[33m\"\u001b[39m, argvalues)\n\u001b[32m    556\u001b[39m call = \u001b[33mf\u001b[39m\u001b[33m\"\u001b[39m\u001b[33mCALL \u001b[39m\u001b[38;5;132;01m{\u001b[39;00mprocname\u001b[38;5;132;01m}\u001b[39;00m\u001b[33m(\u001b[39m\u001b[38;5;132;01m{\u001b[39;00m\u001b[33m'\u001b[39m\u001b[33m,\u001b[39m\u001b[33m'\u001b[39m.join(argnames)\u001b[38;5;132;01m}\u001b[39;00m\u001b[33m)\u001b[39m\u001b[33m\"\u001b[39m\n\u001b[32m--> \u001b[39m\u001b[32m558\u001b[39m result = \u001b[38;5;28;43mself\u001b[39;49m\u001b[43m.\u001b[49m\u001b[43m_connection\u001b[49m\u001b[43m.\u001b[49m\u001b[43mcmd_query\u001b[49m\u001b[43m(\u001b[49m\n\u001b[32m    559\u001b[39m \u001b[43m    \u001b[49m\u001b[43mcall\u001b[49m\u001b[43m,\u001b[49m\u001b[43m \u001b[49m\u001b[43mraw\u001b[49m\u001b[43m=\u001b[49m\u001b[38;5;28;43mself\u001b[39;49m\u001b[43m.\u001b[49m\u001b[43m_raw\u001b[49m\u001b[43m,\u001b[49m\u001b[43m \u001b[49m\u001b[43mraw_as_string\u001b[49m\u001b[43m=\u001b[49m\u001b[38;5;28;43mself\u001b[39;49m\u001b[43m.\u001b[49m\u001b[43m_raw_as_string\u001b[49m\n\u001b[32m    560\u001b[39m \u001b[43m\u001b[49m\u001b[43m)\u001b[49m\n\u001b[32m    562\u001b[39m results = []\n\u001b[32m    563\u001b[39m \u001b[38;5;28;01mwhile\u001b[39;00m \u001b[38;5;28mself\u001b[39m._connection.result_set_available:\n",
      "\u001b[36mFile \u001b[39m\u001b[32mc:\\Users\\murali.g.ARTECHSOLUTION\\AppData\\Local\\Programs\\Python\\Python313\\Lib\\site-packages\\mysql\\connector\\opentelemetry\\context_propagation.py:97\u001b[39m, in \u001b[36mwith_context_propagation.<locals>.wrapper\u001b[39m\u001b[34m(cnx, *args, **kwargs)\u001b[39m\n\u001b[32m     95\u001b[39m \u001b[38;5;66;03m# pylint: disable=possibly-used-before-assignment\u001b[39;00m\n\u001b[32m     96\u001b[39m \u001b[38;5;28;01mif\u001b[39;00m \u001b[38;5;129;01mnot\u001b[39;00m OTEL_ENABLED \u001b[38;5;129;01mor\u001b[39;00m \u001b[38;5;129;01mnot\u001b[39;00m cnx.otel_context_propagation:\n\u001b[32m---> \u001b[39m\u001b[32m97\u001b[39m     \u001b[38;5;28;01mreturn\u001b[39;00m \u001b[43mmethod\u001b[49m\u001b[43m(\u001b[49m\u001b[43mcnx\u001b[49m\u001b[43m,\u001b[49m\u001b[43m \u001b[49m\u001b[43m*\u001b[49m\u001b[43margs\u001b[49m\u001b[43m,\u001b[49m\u001b[43m \u001b[49m\u001b[43m*\u001b[49m\u001b[43m*\u001b[49m\u001b[43mkwargs\u001b[49m\u001b[43m)\u001b[49m\n\u001b[32m     99\u001b[39m current_span = trace.get_current_span()\n\u001b[32m    100\u001b[39m tp_header = \u001b[38;5;28;01mNone\u001b[39;00m\n",
      "\u001b[36mFile \u001b[39m\u001b[32mc:\\Users\\murali.g.ARTECHSOLUTION\\AppData\\Local\\Programs\\Python\\Python313\\Lib\\site-packages\\mysql\\connector\\connection_cext.py:781\u001b[39m, in \u001b[36mCMySQLConnection.cmd_query\u001b[39m\u001b[34m(self, query, raw, buffered, raw_as_string, **kwargs)\u001b[39m\n\u001b[32m    779\u001b[39m \u001b[38;5;28;01mexcept\u001b[39;00m MySQLInterfaceError \u001b[38;5;28;01mas\u001b[39;00m err:\n\u001b[32m    780\u001b[39m     \u001b[38;5;28;01mif\u001b[39;00m \u001b[38;5;28mhasattr\u001b[39m(err, \u001b[33m\"\u001b[39m\u001b[33merrno\u001b[39m\u001b[33m\"\u001b[39m):\n\u001b[32m--> \u001b[39m\u001b[32m781\u001b[39m         \u001b[38;5;28;01mraise\u001b[39;00m get_mysql_exception(\n\u001b[32m    782\u001b[39m             err.errno, msg=err.msg, sqlstate=err.sqlstate\n\u001b[32m    783\u001b[39m         ) \u001b[38;5;28;01mfrom\u001b[39;00m\u001b[38;5;250m \u001b[39m\u001b[34;01merr\u001b[39;00m\n\u001b[32m    784\u001b[39m     \u001b[38;5;28;01mraise\u001b[39;00m InterfaceError(\u001b[38;5;28mstr\u001b[39m(err)) \u001b[38;5;28;01mfrom\u001b[39;00m\u001b[38;5;250m \u001b[39m\u001b[34;01merr\u001b[39;00m\n\u001b[32m    785\u001b[39m \u001b[38;5;28;01mexcept\u001b[39;00m \u001b[38;5;167;01mAttributeError\u001b[39;00m \u001b[38;5;28;01mas\u001b[39;00m err:\n",
      "\u001b[31mProgrammingError\u001b[39m: 1305 (42000): PROCEDURE school_db.GetStudentCourses does not exist"
     ]
    }
   ],
   "source": [
    "student_id = int(input(\"Enter Student ID: \"))\n",
    "\n",
    "# call stored procedure\n",
    "cursor.callproc(\"GetStudentCourses\", [student_id])\n",
    "\n",
    "# fetch results\n",
    "for result in cursor.stored_results():\n",
    "    rows = result.fetchall()\n",
    "    if rows:\n",
    "        print(f\"Courses for student {student_id}:\")\n",
    "        for r in rows:\n",
    "            print(f\"Student: {r[0]},  Course: {r[1]}\")\n",
    "    else:\n",
    "        print(f\"No courses found for student {student_id}.\")"
   ]
  },
  {
   "cell_type": "code",
   "execution_count": null,
   "id": "665d0dfa",
   "metadata": {},
   "outputs": [],
   "source": []
  },
  {
   "cell_type": "markdown",
   "id": "018360ed",
   "metadata": {},
   "source": [
    "18. Handle exceptions in Python to gracefully catch duplicate entries (e.g., inserting a student with the same ID)."
   ]
  },
  {
   "cell_type": "code",
   "execution_count": null,
   "id": "fe29e93c",
   "metadata": {},
   "outputs": [
    {
     "name": "stdout",
     "output_type": "stream",
     "text": [
      "Duplicate entry! Student with this ID already exists.\n"
     ]
    }
   ],
   "source": [
    "try:\n",
    "    sql = \"INSERT INTO students (student_id, name, age, grade, email) VALUES (%s, %s, %s, %s, %s)\"\n",
    "    val = (1, \"Alice\", 20, \"A\", \"alice@school.edu\")   \n",
    "    cursor.execute(sql, val)\n",
    "    mydb.commit()\n",
    "    print(\" Student inserted successfully!\")\n",
    "\n",
    "except mysql.connector.IntegrityError as e:\n",
    "    if e.errno == 1062:  \n",
    "        print(\"Duplicate entry! Student with this ID already exists.\")\n",
    "    else:\n",
    "        print(f\"Error: {e}\")\n"
   ]
  },
  {
   "cell_type": "markdown",
   "id": "92007fc9",
   "metadata": {},
   "source": [
    "19. Write a program to implement transactions in Python:\n",
    "○ Insert a student\n",
    "○ Enroll them in a course\n",
    "○ Roll back if the second query fails"
   ]
  },
  {
   "cell_type": "code",
   "execution_count": null,
   "id": "ddae91b6",
   "metadata": {},
   "outputs": [
    {
     "name": "stdout",
     "output_type": "stream",
     "text": [
      "Transaction rolled back due to error: 1046 (3D000): No database selected\n"
     ]
    }
   ],
   "source": [
    "from mysql.connector import Error\n",
    "\n",
    "try:\n",
    "    mydb.start_transaction()\n",
    "\n",
    "    new_student = (101, 'Sam101', 20, 'B', 'sam101@school.edu')\n",
    "    insert_student_query = \"\"\"\n",
    "        INSERT INTO Students (student_id, name, age, grade, email)\n",
    "        VALUES (%s, %s, %s, %s, %s)\n",
    "    \"\"\"\n",
    "    cursor.execute(insert_student_query, new_student)\n",
    "    print(\"Student inserted successfully.\")\n",
    "\n",
    "    new_enrollment = (None, 101, 3) \n",
    "    enroll_query = \"\"\"\n",
    "        INSERT INTO Enrollments (enrollment_id, student_id, course_id)\n",
    "        VALUES (%s, %s, %s)\n",
    "    \"\"\"\n",
    "    cursor.execute(enroll_query, new_enrollment)\n",
    "    print(\"Student enrolled successfully.\")\n",
    "\n",
    "    mydb.commit()\n",
    "    print(\"Transaction committed.\")\n",
    "\n",
    "except Error as e:\n",
    "    mydb.rollback()\n",
    "    print(\"Transaction rolled back due to error:\", e)\n",
    "finally:\n",
    "    if cursor:\n",
    "        cursor.close()\n",
    "    if mydb:\n",
    "        mydb.close()"
   ]
  },
  {
   "cell_type": "markdown",
   "id": "2e492525",
   "metadata": {},
   "source": [
    "20. Close the database connection safely in Python, ensuring both cursor and connection are properly closed."
   ]
  },
  {
   "cell_type": "code",
   "execution_count": null,
   "id": "e2ed841e",
   "metadata": {},
   "outputs": [
    {
     "name": "stdout",
     "output_type": "stream",
     "text": [
      "Cursor closed.\n"
     ]
    }
   ],
   "source": [
    "if 'cursor' in locals() and cursor is not None:\n",
    "        cursor.close()\n",
    "        print(\"Cursor closed.\")\n",
    "        \n",
    "if 'conn' in locals() and conn.is_connected():\n",
    "        mydb.close()\n",
    "        print(\"Connection closed.\")"
   ]
  }
 ],
 "metadata": {
  "kernelspec": {
   "display_name": "Python 3",
   "language": "python",
   "name": "python3"
  },
  "language_info": {
   "codemirror_mode": {
    "name": "ipython",
    "version": 3
   },
   "file_extension": ".py",
   "mimetype": "text/x-python",
   "name": "python",
   "nbconvert_exporter": "python",
   "pygments_lexer": "ipython3",
   "version": "3.13.2"
  }
 },
 "nbformat": 4,
 "nbformat_minor": 5
}
